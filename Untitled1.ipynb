{
 "cells": [
  {
   "cell_type": "code",
   "execution_count": 15,
   "metadata": {},
   "outputs": [
    {
     "name": "stdout",
     "output_type": "stream",
     "text": [
      "[2, 3, 5, 7, 11, 13, 17, 19, 23, 29, 31, 37, 41, 43, 47, 53, 59, 61, 67, 71, 73, 79, 83, 89, 97]\n"
     ]
    }
   ],
   "source": [
    "\n",
    "s=3\n",
    "list=[2]\n",
    "while s<100:\n",
    "    c=2\n",
    "    for j in range(0,s):\n",
    "        if s%c==0:\n",
    "            break\n",
    "        if c==s-1:\n",
    "            list.append(s) \n",
    "        c=c+1\n",
    "    s=s+1 \n",
    "print(list)\n",
    "    "
   ]
  },
  {
   "cell_type": "code",
   "execution_count": 9,
   "metadata": {},
   "outputs": [
    {
     "name": "stdout",
     "output_type": "stream",
     "text": [
      "1and2and3\n"
     ]
    }
   ],
   "source": [
    "a=1\n",
    "b=2\n",
    "c=3\n",
    "print(a,b,c,sep='and',end='\\n')"
   ]
  },
  {
   "cell_type": "code",
   "execution_count": 10,
   "metadata": {},
   "outputs": [
    {
     "name": "stdout",
     "output_type": "stream",
     "text": [
      "<class 'str'>\n"
     ]
    }
   ],
   "source": [
    "dict_demo = \"\"\"q\"\"\"\n",
    "print(type(dict_demo))"
   ]
  },
  {
   "cell_type": "code",
   "execution_count": 50,
   "metadata": {},
   "outputs": [
    {
     "name": "stdout",
     "output_type": "stream",
     "text": [
      "5050\n"
     ]
    }
   ],
   "source": [
    "sum=0\n",
    "for i in range(1,101):\n",
    "    sum += i\n",
    "print(sum)"
   ]
  },
  {
   "cell_type": "code",
   "execution_count": 51,
   "metadata": {},
   "outputs": [
    {
     "name": "stdout",
     "output_type": "stream",
     "text": [
      "55\n"
     ]
    }
   ],
   "source": [
    "i = 1\n",
    "result = 0\n",
    "while i <= 10:\n",
    "   result += i\n",
    "   i += 1\n",
    "print(result)  \n",
    "    "
   ]
  },
  {
   "cell_type": "code",
   "execution_count": 1,
   "metadata": {},
   "outputs": [
    {
     "name": "stdout",
     "output_type": "stream",
     "text": [
      "王\n",
      "开\n",
      "心\n"
     ]
    }
   ],
   "source": [
    "for word in \"王开心\":\n",
    "     print(word)"
   ]
  },
  {
   "cell_type": "code",
   "execution_count": 24,
   "metadata": {},
   "outputs": [
    {
     "name": "stdout",
     "output_type": "stream",
     "text": [
      "成绩及格！\n"
     ]
    }
   ],
   "source": [
    "score = 88\n",
    "if score >= 60:\n",
    "  print(\"成绩及格！\")"
   ]
  },
  {
   "cell_type": "code",
   "execution_count": 2,
   "metadata": {},
   "outputs": [
    {
     "name": "stdout",
     "output_type": "stream",
     "text": [
      "输入你的年龄：19\n",
      "你还小不能谈恋爱哦！\n"
     ]
    }
   ],
   "source": [
    "age=input(\"输入你的年龄：\")\n",
    "if int(age)>0 and int(age)<20:\n",
    "    print(\"你还小不能谈恋爱哦！\")\n",
    "elif int(age)>20 and int(age)<30:\n",
    "    print(\"你真年轻！处对象不？\")\n",
    "else:\n",
    "    print(\"原来是大叔呀！谈恋爱不?\")\n"
   ]
  },
  {
   "cell_type": "code",
   "execution_count": null,
   "metadata": {},
   "outputs": [],
   "source": [
    "a=input(\"请输入a:\")\n",
    "b=input(\"请输入b:\")\n",
    "if int(a>b):\n",
    "    print(\"最大是a\",a)\n",
    "else: \n",
    "    print(\"最大是b\",b)"
   ]
  },
  {
   "cell_type": "code",
   "execution_count": 1,
   "metadata": {},
   "outputs": [
    {
     "name": "stdout",
     "output_type": "stream",
     "text": [
      "你的年龄是？34\n",
      "我已经成年了\n"
     ]
    }
   ],
   "source": [
    "#if-else 双向执行\n",
    "age = input(\"你的年龄是？\")\n",
    "if int(age)>16:\n",
    "     print(\"我已经成年了\")\n",
    "else:\n",
    "    print(\"我还需要爸妈照顾\")\n",
    "    print(\"爸妈辛苦了\")\n",
    "    print(\"希望我快快长大\")"
   ]
  },
  {
   "cell_type": "code",
   "execution_count": 2,
   "metadata": {},
   "outputs": [
    {
     "name": "stdout",
     "output_type": "stream",
     "text": [
      "我是一个靓仔\n",
      "我有一双明亮的大眼睛\n",
      "我是不喜欢唱歌\n"
     ]
    }
   ],
   "source": [
    "#顺序结构\n",
    "#if\n",
    "a=\"我喜欢吃苹果\"\n",
    "if a:\n",
    "    print(\"我是一个靓仔\")\n",
    "    print(\"我有一双明亮的大眼睛\")\n",
    "    print(\"我是不喜欢唱歌\")"
   ]
  },
  {
   "cell_type": "code",
   "execution_count": 19,
   "metadata": {},
   "outputs": [
    {
     "name": "stdout",
     "output_type": "stream",
     "text": [
      "你的成绩是：50\n",
      "不及格\n"
     ]
    }
   ],
   "source": [
    "score = input(\"你的成绩是：\")\n",
    "if int(score)>90:\n",
    "    print(\"优秀\")\n",
    "elif int(score)>60 and int(score)<90:\n",
    "    print(\"良好\")\n",
    "elif int(score)==60:\n",
    "    print(\"及格\")\n",
    "else:\n",
    "    print(\"不及格\")\n",
    "    "
   ]
  },
  {
   "cell_type": "markdown",
   "metadata": {},
   "source": []
  },
  {
   "cell_type": "code",
   "execution_count": null,
   "metadata": {},
   "outputs": [],
   "source": []
  }
 ],
 "metadata": {
  "kernelspec": {
   "display_name": "Python 3",
   "language": "python",
   "name": "python3"
  },
  "language_info": {
   "codemirror_mode": {
    "name": "ipython",
    "version": 3
   },
   "file_extension": ".py",
   "mimetype": "text/x-python",
   "name": "python",
   "nbconvert_exporter": "python",
   "pygments_lexer": "ipython3",
   "version": "3.7.6"
  }
 },
 "nbformat": 4,
 "nbformat_minor": 4
}
