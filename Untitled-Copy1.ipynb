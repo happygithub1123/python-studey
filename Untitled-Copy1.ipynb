{
 "cells": [
  {
   "cell_type": "code",
   "execution_count": 1,
   "metadata": {},
   "outputs": [
    {
     "name": "stdout",
     "output_type": "stream",
     "text": [
      "1 2 3\n",
      "我是程序员高手\n",
      "我就有很高的收入\n",
      "我就有幸福的生活\n"
     ]
    }
   ],
   "source": [
    "#程序结构有三种\n",
    "\"\"\"\n",
    "顺序\n",
    "分支\n",
    "循环\n",
    "\"\"\"\n",
    " \n",
    "a = 1\n",
    "b = 2\n",
    "c = 3\n",
    "print(a, b, c)\n",
    "\n",
    "#分支结构就是IF语句，判断条件就是布尔值False或者True\n",
    "#分支实例\n",
    "#字符串判断if\n",
    "a =\"我把python学好了\"\n",
    "\n",
    "if a:\n",
    "    print(\"我是程序员高手\")\n",
    "    print(\"我就有很高的收入\")\n",
    "    print(\"我就有幸福的生活\")\n",
    "\n"
   ]
  },
  {
   "cell_type": "code",
   "execution_count": 2,
   "metadata": {},
   "outputs": [
    {
     "name": "stdout",
     "output_type": "stream",
     "text": [
      "你的年龄是？12\n",
      "我还需要爸妈照顾\n",
      "爸妈辛苦了\n",
      "希望我快快长大\n"
     ]
    }
   ],
   "source": [
    "#if-else 双向执行\n",
    "age = input(\"你的年龄是？\")\n",
    "if int(age)>16:\n",
    "     print(\"我已经成年了\")\n",
    "else:\n",
    "    print(\"我还需要爸妈照顾\")\n",
    "    print(\"爸妈辛苦了\")\n",
    "    print(\"希望我快快长大\")"
   ]
  }
 ],
 "metadata": {
  "kernelspec": {
   "display_name": "Python 3",
   "language": "python",
   "name": "python3"
  },
  "language_info": {
   "codemirror_mode": {
    "name": "ipython",
    "version": 3
   },
   "file_extension": ".py",
   "mimetype": "text/x-python",
   "name": "python",
   "nbconvert_exporter": "python",
   "pygments_lexer": "ipython3",
   "version": "3.7.6"
  }
 },
 "nbformat": 4,
 "nbformat_minor": 4
}
