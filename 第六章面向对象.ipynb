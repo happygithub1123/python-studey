{
 "cells": [
  {
   "cell_type": "code",
   "execution_count": null,
   "metadata": {},
   "outputs": [],
   "source": [
    "#定义一个类 含有属性和方法\n",
    "class pythonStudent():\n",
    "    name=\"none\"   #描述类的属性\n",
    "    age=18\n",
    "    course=\"python\"\n",
    "    def sayHi(self):#描述类的方法\n",
    "        print(\"hello\")\n",
    "        return None\n",
    "\n",
    "#实例化\n",
    "lincen=pythonStudent() #访问属性\n",
    "print(lincen.name)\n",
    "print(lincen.age)\n",
    "print(lincen.course)        \n",
    " #lincen代表self  传进去，默认将实例的第一个参数传进 \n",
    "    \n",
    "    "
   ]
  },
  {
   "cell_type": "markdown",
   "metadata": {},
   "source": [
    "# 类的定义及使用"
   ]
  },
  {
   "cell_type": "code",
   "execution_count": null,
   "metadata": {},
   "outputs": [],
   "source": [
    "#对象的创建与使用\n",
    "#1.定义一个类\n",
    "class Car:\n",
    "    wheels=4\n",
    "    def drive(self):\n",
    "        print(\"行驶\")\n",
    "\n",
    "car1=Car()#创建一个对象\n",
    "print(car1.wheels)#访问属性   类的属性 是声明类内部，方法外部的属性\n",
    "car1.drive()#访问方法"
   ]
  },
  {
   "cell_type": "markdown",
   "metadata": {},
   "source": [
    "# 类的成员：属性和方法及私有成员"
   ]
  },
  {
   "cell_type": "markdown",
   "metadata": {},
   "source": [
    "# 属性"
   ]
  },
  {
   "cell_type": "code",
   "execution_count": null,
   "metadata": {},
   "outputs": [],
   "source": [
    "#类的属性 是声明类内部，方法外部的属性\n",
    "#1.定义一个类  类属性可以通过类或者对象访问 但只能通过类进行修改\n",
    "class Car:\n",
    "    wheels=4\n",
    "    def drive(self):  #是一个实例方法以self为第一个形参\n",
    "        print(\"行驶\")\n",
    "\n",
    "car1=Car()\n",
    "print(Car.wheels)#通过类Car访问属性\n",
    "print(car1.wheels)#通过对象car1访问属性\n",
    "Car.wheels=3#通过类修改属性\n",
    "print(\"通过类修改之后：wheels的值为{}\".format(Car.wheels))#打印出类修改的属性\n",
    "car1.wheels=4#通过对象修改属性  可以看出通过对象没有改变Car的属性\n",
    "print(\"通过类修改之后：wheels的值为{}\".format(Car.wheels))#打印出类修改的属性\n",
    "\n"
   ]
  },
  {
   "cell_type": "code",
   "execution_count": null,
   "metadata": {},
   "outputs": [],
   "source": [
    "#2.实例属性 ：只能通过对象进行修改和访问\n",
    "#Python规定实例属性只能通过对象访问 例如：\n",
    "class Car:\n",
    "    def dirve(self):#方法参数列表中第一个参数是一个指代对象的默认参数self\n",
    "        self.wheels=4   #添加一个实例属性\n",
    "\n",
    "car=Car()\n",
    "car.dirve()\n",
    "car.wheels=1#实例属性通过对象进行修改\n",
    "print(car.wheels)#通过对象car访问实例属性\n",
    "#print(Car.wheels)#通过类Car访问实例属性  类Car不可访问   "
   ]
  },
  {
   "cell_type": "code",
   "execution_count": null,
   "metadata": {},
   "outputs": [],
   "source": [
    "#3.动态添加实例属性\n",
    "class Car:\n",
    "    def dirve(self):#方法参数列表中第一个参数是一个指代对象的默认参数self\n",
    "        self.wheels=4   #添加一个实例属性\n",
    "\n",
    "car=Car()\n",
    "car.dirve()\n",
    "print(car.wheels)#通过对象car访问实例属性\n",
    "car.color = \"红色\"     #动态添加实例属性                                                                  \n",
    "print(car.color)\n"
   ]
  },
  {
   "cell_type": "markdown",
   "metadata": {},
   "source": [
    "# 方法：3类 实例方法和类方法及静态方法"
   ]
  },
  {
   "cell_type": "code",
   "execution_count": 33,
   "metadata": {},
   "outputs": [
    {
     "name": "stdout",
     "output_type": "stream",
     "text": [
      "我是王开心\n"
     ]
    },
    {
     "ename": "TypeError",
     "evalue": "drive() missing 1 required positional argument: 'self'",
     "output_type": "error",
     "traceback": [
      "\u001b[1;31m---------------------------------------------------------------------------\u001b[0m",
      "\u001b[1;31mTypeError\u001b[0m                                 Traceback (most recent call last)",
      "\u001b[1;32m<ipython-input-33-dba547f82314>\u001b[0m in \u001b[0;36m<module>\u001b[1;34m\u001b[0m\n\u001b[0;32m      7\u001b[0m \u001b[0mcar\u001b[0m \u001b[1;33m=\u001b[0m \u001b[0mCar\u001b[0m\u001b[1;33m(\u001b[0m\u001b[1;33m)\u001b[0m\u001b[1;33m\u001b[0m\u001b[1;33m\u001b[0m\u001b[0m\n\u001b[0;32m      8\u001b[0m \u001b[0mcar\u001b[0m\u001b[1;33m.\u001b[0m\u001b[0mdrive\u001b[0m\u001b[1;33m(\u001b[0m\u001b[1;33m)\u001b[0m\u001b[1;31m#通过对象car调用实例方法\u001b[0m\u001b[1;33m\u001b[0m\u001b[1;33m\u001b[0m\u001b[0m\n\u001b[1;32m----> 9\u001b[1;33m \u001b[0mCar\u001b[0m\u001b[1;33m.\u001b[0m\u001b[0mdrive\u001b[0m\u001b[1;33m(\u001b[0m\u001b[1;33m)\u001b[0m\u001b[1;31m#通过类Car调用实例方法\u001b[0m\u001b[1;33m\u001b[0m\u001b[1;33m\u001b[0m\u001b[0m\n\u001b[0m\u001b[0;32m     10\u001b[0m \u001b[1;33m\u001b[0m\u001b[0m\n\u001b[0;32m     11\u001b[0m \u001b[1;33m\u001b[0m\u001b[0m\n",
      "\u001b[1;31mTypeError\u001b[0m: drive() missing 1 required positional argument: 'self'"
     ]
    }
   ],
   "source": [
    "#1.实例方法 定义类内部\n",
    "#self参数代表对象本身 ，他会在实例方法被调用时自动接收由系统传递的调用该方法的对象\n",
    "#只能通过对象调用实例方法，不能通过类调用实例方法\n",
    "class Car:\n",
    "    def drive(self):             #实例方法\n",
    "        print(\"我是王开心\")\n",
    "car = Car()\n",
    "car.drive()#通过对象car调用实例方法\n",
    "#Car.drive()#通过类Car调用实例方法\n",
    "\n",
    "    "
   ]
  },
  {
   "cell_type": "code",
   "execution_count": null,
   "metadata": {},
   "outputs": [],
   "source": [
    "#2.类方法 定义在类内部   对象&类都可以调用\n",
    "#使用@classmethod修饰器的方法\n",
    "\"\"\"\n",
    "定义格式：\n",
    "@classmethod \n",
    "def 类方法名（cls）   cls被调用函数传递的第一个函数参数，函数本身\n",
    "     print（“我是类方法”）\n",
    "          \n",
    "\"\"\"\n",
    "class Car:\n",
    "    @classmethod\n",
    "    def stop(cls):\n",
    "        print(\"我是类方法\")    #类方法\n",
    "car = Car()\n",
    "car.stop()#通过对象car调用实例方法\n",
    "Car.stop()#通过类Car调用实例方法\n",
    "\n",
    "            "
   ]
  },
  {
   "cell_type": "code",
   "execution_count": 6,
   "metadata": {},
   "outputs": [
    {
     "name": "stdout",
     "output_type": "stream",
     "text": [
      "3\n",
      "4\n"
     ]
    }
   ],
   "source": [
    "#2.类方法，在类方法中使用参数cls访问和修改类属性的值\n",
    "class Car:\n",
    "    wheels=3\n",
    "    @classmethod\n",
    "    def stop(cls):#类方法\n",
    "        print(cls.wheels)#使用cls访问类属性\n",
    "        cls.wheels=4#使用cls修改属性的值\n",
    "        print(cls.wheels)\n",
    "car=Car()\n",
    "car.stop()\n",
    "      \n"
   ]
  },
  {
   "cell_type": "code",
   "execution_count": 31,
   "metadata": {
    "scrolled": true
   },
   "outputs": [
    {
     "name": "stdout",
     "output_type": "stream",
     "text": [
      "我是静态函数\n",
      "我是静态函数\n"
     ]
    }
   ],
   "source": [
    "#3.静态方法  定义在函数的内部\n",
    "#使用@staticmethod修饰的方法\n",
    "\"\"\"\n",
    "语法格式\n",
    "@staticmethod\n",
    "def 静态方法名():\n",
    "     方法体\n",
    "\n",
    "\"\"\"\n",
    "#可通过类或者对象调用静态方法\n",
    "class Car:\n",
    "    @staticmethod\n",
    "    def test():#静态方法，无参数\n",
    "        print(\"我是静态函数\")\n",
    "        \n",
    "        \n",
    "car=Car()\n",
    "car.test()#对象的调用\n",
    "Car.test()#类的调用"
   ]
  },
  {
   "cell_type": "code",
   "execution_count": 7,
   "metadata": {},
   "outputs": [
    {
     "name": "stdout",
     "output_type": "stream",
     "text": [
      "类属性的值为3\n",
      "3\n"
     ]
    }
   ],
   "source": [
    "#3.静态方法 内部不能直接访问属性和方法，但可以通过使用类名访问类属性或调用类方法\n",
    "class Car:\n",
    "    wheels=3#类属性\n",
    "    @staticmethod\n",
    "    def test():#静态方法\n",
    "        print(f\"类属性的值为{Car.wheels}\")#静态方法中访问类属性\n",
    "car=Car()\n",
    "car.test()\n",
    "print(car.wheels)\n"
   ]
  },
  {
   "cell_type": "markdown",
   "metadata": {},
   "source": [
    "# 私有成员"
   ]
  },
  {
   "cell_type": "code",
   "execution_count": 12,
   "metadata": {},
   "outputs": [
    {
     "name": "stdout",
     "output_type": "stream",
     "text": [
      "轿车正在用3个轮子跑\n"
     ]
    }
   ],
   "source": [
    "#类的成员默认是公有成员，外部通过类或者对象可以随意访问，这显然不够安全，因此引入私有成员\n",
    "\"\"\"\n",
    "私有成员作用：为保证类中数据的安全，可限制一定程度上的类的外部成员访问\n",
    "通过类成员前面加“__”2下划线的方式将其变为私有成员\n",
    "语法格式：\n",
    "_属性名\n",
    "_方法名()\n",
    "例如：_wheels=4，_drive()\n",
    "\"\"\"\n",
    "#私有成员函数内部可以直接访问，外部不能直接访问\n",
    "class Car:\n",
    "    __wheels=3#私有属性\n",
    "    def __drive(self):#私有方法\n",
    "        print(\"行驶\")\n",
    "        \n",
    "    def test(self):#公有方法\n",
    "        print(f\"轿车正在用{self.__wheels}个轮子跑\")#函数内部调用私有属性wheels\n",
    "        \n",
    "car = Car()\n",
    "#print(car._wheels)#公有方法访问私有属性\n",
    "#car.__drive()#公有方法访问私有方法\n",
    "car.test()#公有方法访问公有方法\n"
   ]
  },
  {
   "cell_type": "markdown",
   "metadata": {},
   "source": [
    "# 特殊方法：构造函数和析构函数"
   ]
  },
  {
   "cell_type": "markdown",
   "metadata": {},
   "source": [
    "#  构造函数"
   ]
  },
  {
   "cell_type": "code",
   "execution_count": null,
   "metadata": {},
   "outputs": [],
   "source": [
    "#1.构造函数  当创建实例化对象时系统会自动调用构造函数来初始化类的属性，类的特殊的定义方法\n",
    "\"\"\"\n",
    "构造方法的定义： 即 __init__()方法\n",
    "作用：给创建的对象属性进行初始化\n",
    "规定：其实每个类都有一个默认的构造方法，系统自动调用，但可以自己创建构造函数，\n",
    "系统自动第一步执行的操作\n",
    "分类：有参和无参\n",
    "\"\"\"\n"
   ]
  },
  {
   "cell_type": "code",
   "execution_count": 54,
   "metadata": {},
   "outputs": [
    {
     "name": "stdout",
     "output_type": "stream",
     "text": [
      "这个车的颜色是红色\n",
      "这个车的颜色是红色\n"
     ]
    }
   ],
   "source": [
    "#无参数构造方法：所有对象具有相同的初始值   如例题中的 红色\n",
    "class Car:\n",
    "    def __init__(self):#无参构造函数\n",
    "        self.color=\"红色\"#实例属性\n",
    "    def drive(self):#实例方法\n",
    "        print(f\"这个车的颜色是{self.color}\")\n",
    "car_one=Car()#创建对象并调用构造函数初始化\n",
    "car.drive()\n",
    "car_two=Car()#创建对象并调用构造函数初始化\n",
    "car_two.drive()\n",
    "            "
   ]
  },
  {
   "cell_type": "code",
   "execution_count": 57,
   "metadata": {},
   "outputs": [
    {
     "name": "stdout",
     "output_type": "stream",
     "text": [
      "奥迪\n",
      "该轿车的颜色是：红色\n",
      "该轿车的车牌号是：8888\n",
      "奥迪\n",
      "该轿车的颜色是：蓝色\n",
      "该轿车的车牌号是：9999\n"
     ]
    }
   ],
   "source": [
    "#有参构造方法：所有对象具有不同的初始值\n",
    "class Car:\n",
    "    name=\"奥迪\"\n",
    "    def __init__(self,color,number):#含参的构造方法，初始化两个属性color，number\n",
    "        self.color=color#将形参赋给属性\n",
    "        self.number=number\n",
    "    def drive(self):\n",
    "        print(f\"该轿车的颜色是：{self.color}\")\n",
    "        print(f\"该轿车的车牌号是：{self.number}\")\n",
    "        \n",
    "        \n",
    "car_one=Car(\"红色\",8888)\n",
    "print(car_one.name)\n",
    "car_one.drive()\n",
    "car_two=Car(\"蓝色\",9999)\n",
    "print(car_two.name)\n",
    "car_two.drive()"
   ]
  },
  {
   "cell_type": "markdown",
   "metadata": {},
   "source": [
    "# 析构函数"
   ]
  },
  {
   "cell_type": "code",
   "execution_count": null,
   "metadata": {},
   "outputs": [],
   "source": [
    "#析构函数：删除对象时系统自动调用的特殊方法,释放所占的内存\n",
    "\"\"\"\n",
    "析构方法定义：即 __del__()方法\n",
    "作用：删除对象时系统自动调用的特殊方法,释放所占的内存资源\n",
    "规定：每个类都默认有一个析构方法，可自己定义析构函数\n",
    "\n",
    "\"\"\"\n"
   ]
  },
  {
   "cell_type": "code",
   "execution_count": 34,
   "metadata": {},
   "outputs": [
    {
     "name": "stdout",
     "output_type": "stream",
     "text": [
      "蓝色\n",
      "对象已经被销毁\n"
     ]
    },
    {
     "ename": "AttributeError",
     "evalue": "type object 'Car' has no attribute 'color'",
     "output_type": "error",
     "traceback": [
      "\u001b[1;31m---------------------------------------------------------------------------\u001b[0m",
      "\u001b[1;31mAttributeError\u001b[0m                            Traceback (most recent call last)",
      "\u001b[1;32m<ipython-input-34-75579e79d54a>\u001b[0m in \u001b[0;36m<module>\u001b[1;34m\u001b[0m\n\u001b[0;32m      8\u001b[0m \u001b[0mprint\u001b[0m\u001b[1;33m(\u001b[0m\u001b[0mcar\u001b[0m\u001b[1;33m.\u001b[0m\u001b[0mcolor\u001b[0m\u001b[1;33m)\u001b[0m\u001b[1;33m\u001b[0m\u001b[1;33m\u001b[0m\u001b[0m\n\u001b[0;32m      9\u001b[0m \u001b[1;32mdel\u001b[0m \u001b[0mcar\u001b[0m\u001b[1;31m#使用del语句删除对象的引用\u001b[0m\u001b[1;33m\u001b[0m\u001b[1;33m\u001b[0m\u001b[0m\n\u001b[1;32m---> 10\u001b[1;33m \u001b[0mprint\u001b[0m\u001b[1;33m(\u001b[0m\u001b[0mCar\u001b[0m\u001b[1;33m.\u001b[0m\u001b[0mcolor\u001b[0m\u001b[1;33m)\u001b[0m\u001b[1;33m\u001b[0m\u001b[1;33m\u001b[0m\u001b[0m\n\u001b[0m",
      "\u001b[1;31mAttributeError\u001b[0m: type object 'Car' has no attribute 'color'"
     ]
    }
   ],
   "source": [
    "#析构函数\n",
    "class Car:\n",
    "    def __init__(self):\n",
    "        self.color=\"蓝色\"\n",
    "    def __del__(self):#析构方法\n",
    "        print(\"对象已经被销毁\")\n",
    "car=Car()\n",
    "print(car.color)\n",
    "del car#使用del语句删除对象的引用\n",
    "print(Car.color)"
   ]
  },
  {
   "cell_type": "markdown",
   "metadata": {},
   "source": [
    "# 类的三大特性：继承、封装、多态"
   ]
  },
  {
   "cell_type": "markdown",
   "metadata": {},
   "source": [
    "# 封装"
   ]
  },
  {
   "cell_type": "code",
   "execution_count": null,
   "metadata": {},
   "outputs": [],
   "source": [
    "#封装：思想是对外隐藏类的细节，提供用于访问类成员的公开接口\n",
    "\"\"\"\n",
    "定义：是将对象运行时所需的资源封装在程序中——属性和方法\n",
    "     \n",
    "作用：思想是对外隐藏类的细节，提供用于访问类成员的公开接口。类的外部无需知道类的实现细节，只需要使用公开接口便可访问类的内容\n",
    "      在一定程度上保证了类内的数据安全\n",
    "规定：在定义时需满足2点\n",
    "      1.将属性声明为私有属性\n",
    "      2.添加两个提供外界使用的公有方法，分别用于设置和获取私有属性的值\n",
    "\"\"\"\n"
   ]
  },
  {
   "cell_type": "code",
   "execution_count": 17,
   "metadata": {},
   "outputs": [
    {
     "name": "stdout",
     "output_type": "stream",
     "text": [
      "小明\n",
      "年龄为12\n"
     ]
    }
   ],
   "source": [
    "#封装例题结合规定要求的两点\n",
    "class Person:\n",
    "    def __init__(self,name):#构造函数含参，初始化\n",
    "        self.name=name   # 将形参姓名赋值给调用的对象 \n",
    "        self.__age = 1    #年龄默认为1岁 ，私有属性\n",
    "    def set_age(self,new_age):#设置私有属性的方法     为外界提供了一个设置_age属性的接口\n",
    "        if 0<new_age<=120:#判断年龄是否合法\n",
    "            self.__age = new_age\n",
    "    def get_age(self):#获取私有属性的方法            为外界提供了一个获取_age属性的接口\n",
    "        return self.__age\n",
    "person=Person(\"小明\")\n",
    "print(person.name)\n",
    "person.set_age(12)\n",
    "print(f\"年龄为{person.get_age()}\")\n",
    "\n",
    "        \n",
    "    "
   ]
  },
  {
   "cell_type": "markdown",
   "metadata": {},
   "source": [
    "# 继承：单继承和多继承及重写"
   ]
  },
  {
   "cell_type": "markdown",
   "metadata": {},
   "source": [
    "# 单继承"
   ]
  },
  {
   "cell_type": "code",
   "execution_count": null,
   "metadata": {},
   "outputs": [],
   "source": [
    "#1.单继承 ：子类只继承一个父类(基类)\n",
    "\"\"\"\n",
    "定义：1、在原有的类的基础上快速增加新的功能\n",
    "\n",
    "2、不影响到原来的类，也不改变原来类的代码，方便对于功能的扩展\n",
    "\n",
    "3、继承是一种创建新类的方式，新建的类可以继承一个或多个类。\n",
    "\n",
    "4、继承描述的是类和类之间的关系\n",
    "**继承简单点来说就是改造，拿原来的东西，原封不动的使用，然后自己添加东西，实现新的功能\n",
    "\n",
    "单继承语法格式：class 子类名(父类名)：\n",
    "         \n",
    "\"\"\"\n"
   ]
  },
  {
   "cell_type": "code",
   "execution_count": 18,
   "metadata": {},
   "outputs": [
    {
     "name": "stdout",
     "output_type": "stream",
     "text": [
      "走猫步\n",
      "灰色\n",
      "灰色的折耳猫\n"
     ]
    }
   ],
   "source": [
    "#单继承\n",
    "#定义一个猫类Cat和一个继承Cat类的折耳猫类ScottishFold\n",
    "#结论：子类无法访问父类的私有成员\n",
    "class Cat:\n",
    "    def __init__(self,color):\n",
    "        self.color=color\n",
    "        self.__age=1#私有属性\n",
    "    def walk(self):\n",
    "        print(\"走猫步\")\n",
    "    def __test(self):#私有方法\n",
    "        print(\"我是父类的私有方法\")\n",
    "#定义继承Cat类的子类ScottishFold类\n",
    "class ScottishFold(Cat):\n",
    "    pass\n",
    "flod = ScottishFold(\"灰色\")   #创建一个子类的对象\n",
    "flod.walk()                   #子类调用从父类继承的walk方法\n",
    "print(flod.color)             #子类访问从父类继承的的属性\n",
    "print(f\"{flod.color}的折耳猫\")\n",
    "#flod（flod.__age）#子类无法访问父类的父类的私有成员\n",
    "#flod.__test()\n",
    "    "
   ]
  },
  {
   "cell_type": "markdown",
   "metadata": {},
   "source": [
    "# 多继承"
   ]
  },
  {
   "cell_type": "code",
   "execution_count": 46,
   "metadata": {},
   "outputs": [
    {
     "name": "stdout",
     "output_type": "stream",
     "text": [
      "kk\n",
      "供人居住\n",
      "自动驾驶\n"
     ]
    }
   ],
   "source": [
    "#多继承:子类可以继承多个父类\n",
    "\"\"\"\n",
    "多继承语法格式：\n",
    "       class 子类名（父类名1，父类名2.....）\n",
    "\"\"\"\n",
    "\n",
    "class House:#定义一个表示房屋的类\n",
    "    def live(self):\n",
    "        print(\"供人居住\")#居住\n",
    "    def test(self):\n",
    "        print(\"Hoouse测试\")\n",
    "class Car:#定义一个表示汽车的类    \n",
    "    def drive(self):\n",
    "        print(\"自动驾驶\")\n",
    "    def __init__(self,name):\n",
    "        self.name=name\n",
    "    def test(self):\n",
    "        print(f\"{self.name}\")\n",
    "class TouringCar(House,Car):\n",
    "    pass\n",
    "tour_car=TouringCar(\"kk\")\n",
    "tour_car.live()\n",
    "tour_car.drive()\n",
    "\n",
    "\n"
   ]
  },
  {
   "cell_type": "code",
   "execution_count": 3,
   "metadata": {},
   "outputs": [
    {
     "name": "stdout",
     "output_type": "stream",
     "text": [
      "周长：6.283185307179586\n",
      "面积：3.141592653589793\n"
     ]
    }
   ],
   "source": [
    "\n",
    "class Circle:\n",
    "    def __init__(self,place,r,color):\n",
    "        self.plsce = place\n",
    "        self.r = r\n",
    "        self.color = color\n",
    "\n",
    "    def C(self):\n",
    "        return '周长：{}'.format(math.pi*2*self.r)\n",
    "\n",
    "    def S(self):\n",
    "        return '面积：{}'.format(math.pi*math.pow(self.r,2))\n",
    "\n",
    "a = Circle((2,0),1,'red')\n",
    "print(a.C())\n",
    "print(a.S())\n"
   ]
  },
  {
   "cell_type": "markdown",
   "metadata": {},
   "source": [
    "# 作业"
   ]
  },
  {
   "cell_type": "code",
   "execution_count": 4,
   "metadata": {},
   "outputs": [
    {
     "name": "stdout",
     "output_type": "stream",
     "text": [
      "课程编号1、课程名称python、任课教师老师、上课地点学校。\n"
     ]
    }
   ],
   "source": [
    "class Class:\n",
    "    def __init__(self,numble,name,tea,place):\n",
    "        self.numble = numble\n",
    "        self.name = name\n",
    "        self.tea = tea\n",
    "        self.__place = place\n",
    "\n",
    "    def outclass(self):\n",
    "        return '课程编号{}、课程名称{}、任课教师{}、上课地点{}。'.format(self.numble,self.name,self.tea,self.__place)\n",
    "\n",
    "a = Class(1,'python','老师','学校')\n",
    "print(a.outclass())\n"
   ]
  },
  {
   "cell_type": "code",
   "execution_count": 57,
   "metadata": {},
   "outputs": [
    {
     "name": "stdout",
     "output_type": "stream",
     "text": [
      "我是animals的构造函数\n",
      "我是dd的构造函数\n",
      "kaixin is a 大熊猫\n",
      "大熊猫\n"
     ]
    }
   ],
   "source": [
    "#继承中的构造函数\n",
    "class animals():\n",
    "    def __init__(self):\n",
    "        print(\"我是animals的构造函数\")\n",
    "        \n",
    "class kaixin(animals):\n",
    "    def __init__(self,name):\n",
    "        self.name = name\n",
    "        print(f\"kaixin is a {self.name}\" )\n",
    "        \n",
    "class dd(kaixin): \n",
    "    def __init__(self):\n",
    "        print(\"我是dd的构造函数\")\n",
    "animals1=animals()   \n",
    "d1=dd()\n",
    "\n",
    "\n",
    "class cat(kaixin):\n",
    "    pass\n",
    "c=cat(\"大熊猫\")\n",
    "print(c.name)"
   ]
  },
  {
   "cell_type": "markdown",
   "metadata": {},
   "source": [
    "# 重写"
   ]
  },
  {
   "cell_type": "code",
   "execution_count": 69,
   "metadata": {},
   "outputs": [
    {
     "name": "stdout",
     "output_type": "stream",
     "text": [
      "我是父类：哈喽!开心哥\n",
      "我是子类重写方法 ：哈喽!开心哥\n"
     ]
    }
   ],
   "source": [
    "#重写的定义：只要在子类中定义与父类同名的方法，然后按照子类的需求重新编译代码\n",
    "\"\"\"\n",
    "例如：定义一个Person表示人的类和一个继承了Preson的子类即：Chinese\n",
    "    在Chinese重写Person的方法 代码如下：\n",
    "\"\"\"\n",
    "#定义一个Person代表人的类\n",
    "class Person(object):\n",
    "    def say_hello(self):\n",
    "        print(\"我是父类：哈喽!开心哥\")\n",
    "#定义一个子类Chinese代表中国人\n",
    "class Chinese(Person):\n",
    "    def say_hello(self):\n",
    "        super().say_hello()\n",
    "        print(\"我是子类重写方法 ：哈喽!开心哥\")\n",
    "        \n",
    "chinese= Chinese()\n",
    "chinese.say_hello()\n",
    "\n"
   ]
  },
  {
   "cell_type": "markdown",
   "metadata": {},
   "source": [
    "# 多态"
   ]
  },
  {
   "cell_type": "markdown",
   "metadata": {},
   "source": [
    "# 多态的定义：不同类的同一功能可以通过同一个接口调用，并表现出不同的行为"
   ]
  },
  {
   "cell_type": "code",
   "execution_count": 4,
   "metadata": {},
   "outputs": [
    {
     "name": "stdout",
     "output_type": "stream",
     "text": [
      "小花喵喵喵的叫！\n",
      "旺仔在汪汪汪的叫！\n"
     ]
    }
   ],
   "source": [
    "#多态\n",
    "\"\"\"\n",
    "多态例题：定义一个猫类和一个狗类，为这两个类都定义一个叫的方法\n",
    "代码如下：\n",
    "\n",
    "\"\"\"\n",
    "class 猫:#猫类\n",
    "    def 叫(self):\n",
    "        print(\"小花喵喵喵的叫！\")\n",
    "\n",
    "        \n",
    "class 狗:#狗类\n",
    "    def 叫(self):\n",
    "        print(\"旺仔在汪汪汪的叫！\")\n",
    "\n",
    "#定义一个接口：用来调用猫类和狗类的叫方法\n",
    "def 叫的接口(obj):#obj是形式参数\n",
    "    obj.叫()\n",
    "\n",
    "    \n",
    "#创建两个对象猫名叫小花狗叫旺仔\n",
    "小花=猫()\n",
    "旺仔=狗()\n",
    "叫的接口(小花)#将实参小花传给形参\n",
    "叫的接口(旺仔)"
   ]
  },
  {
   "cell_type": "markdown",
   "metadata": {},
   "source": [
    "# 作业"
   ]
  },
  {
   "cell_type": "code",
   "execution_count": 46,
   "metadata": {},
   "outputs": [
    {
     "name": "stdout",
     "output_type": "stream",
     "text": [
      "颜色:蓝色  品牌：奥迪  车牌号:8888  价格：1000万\n",
      "颜色:红色  品牌：宝马  车牌号:9999  价格：1500万\n"
     ]
    }
   ],
   "source": [
    "#定义一个汽车类（Car），属性有颜色，品牌，车牌号，价格，并实例化两个对象，给属性赋值，并输入属性值。\n",
    "class Car:\n",
    "    def __init__(self,color,brand,plate,price):\n",
    "        self.color=color\n",
    "        self.brand=brand\n",
    "        self.plate=plate\n",
    "        self.price=price\n",
    "    def d(self):\n",
    "        print(f\"颜色:{self.color} \",f\"品牌：{self.brand} \",f\"车牌号:{self.plate} \",f\"价格：{self.price}\")\n",
    "        \n",
    "car=Car(\"蓝色\",\"奥迪\",\"8888\",\"1000万\") \n",
    "car.d()\n",
    "car1=Car(\"红色\",\"宝马\",\"9999\",\"1500万\") \n",
    "car1.d()\n",
    "        \n",
    "        "
   ]
  },
  {
   "cell_type": "code",
   "execution_count": 54,
   "metadata": {},
   "outputs": [
    {
     "name": "stdout",
     "output_type": "stream",
     "text": [
      "2.1m 96kg 姚明\n",
      "2.2m 99kg 易建联\n"
     ]
    }
   ],
   "source": [
    "#定义一个球员类(Player)，属性有身高，体重，姓名，实例化两个球员，分别是姚明和易建联\n",
    "class Player:\n",
    "    def __init__(self,height,weight,name):\n",
    "        self.height=height\n",
    "        self.weight=weight\n",
    "        self.name=name\n",
    "    def person(self):\n",
    "        print(self.height,self.weight,self.name)\n",
    "person=Player(\"2.1m\",\"96kg\",\"姚明\")  \n",
    "person.person()\n",
    "person1=Player(\"2.2m\",\"99kg\",\"易建联\")\n",
    "person1.person()"
   ]
  },
  {
   "cell_type": "code",
   "execution_count": 92,
   "metadata": {},
   "outputs": [
    {
     "name": "stdout",
     "output_type": "stream",
     "text": [
      "课程编号1、课程名称python、任课教师马保国、上课地点南京工业职业技术大学\n"
     ]
    }
   ],
   "source": [
    "#设计一个Course（课程）类，该类中包括number（编号）、name（名字）、teacher（任课老师）、location（上课地点），其中上课地点是私有属性\n",
    "#还包括两个方法：构造方法，显示方法\n",
    "class Course:\n",
    "    def __init__(self):\n",
    "        self.number=1\n",
    "        self.name=\"python\"\n",
    "        self.teacher=\"马保国\"\n",
    "        self.__location=\"南京工业职业技术大学\"\n",
    "    def show(self):\n",
    "        print( '课程编号{}、课程名称{}、任课教师{}、上课地点{}'.format(self.number,self.name,self.teacher,self.__location))\n",
    "course=Course()    \n",
    "course.show()"
   ]
  },
  {
   "cell_type": "code",
   "execution_count": 85,
   "metadata": {},
   "outputs": [
    {
     "name": "stdout",
     "output_type": "stream",
     "text": [
      "课程编号1、课程名称python、任课教师王老师、上课地点学校\n",
      "课程编号2、课程名称math、任课教师张老师、上课地点qq\n",
      "课程编号3、课程名称English、任课教师靳老师、上课地点DingTalk\n"
     ]
    }
   ],
   "source": [
    "class Course:\n",
    "    def __init__(self,number,name,teacher,place):\n",
    "        self.number = number\n",
    "        self.name = name\n",
    "        self.teacher = teacher\n",
    "        self.__place = place\n",
    " \n",
    "    def show(self):\n",
    "        return \n",
    " \n",
    "a = Course (1,'python','王老师','学校')\n",
    "b = Course (2, \"math\", \"张老师\", \"qq\")\n",
    "c = Course (3, \"English\",\"靳老师\", \"DingTalk\")\n",
    "print(a.show() )\n",
    "print(b.show() )\n",
    "print(c.show() )"
   ]
  },
  {
   "cell_type": "code",
   "execution_count": null,
   "metadata": {},
   "outputs": [],
   "source": []
  }
 ],
 "metadata": {
  "kernelspec": {
   "display_name": "Python 3",
   "language": "python",
   "name": "python3"
  },
  "language_info": {
   "codemirror_mode": {
    "name": "ipython",
    "version": 3
   },
   "file_extension": ".py",
   "mimetype": "text/x-python",
   "name": "python",
   "nbconvert_exporter": "python",
   "pygments_lexer": "ipython3",
   "version": "3.7.6"
  }
 },
 "nbformat": 4,
 "nbformat_minor": 4
}
