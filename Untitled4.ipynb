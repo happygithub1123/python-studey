{
 "cells": [
  {
   "cell_type": "code",
   "execution_count": 1,
   "metadata": {},
   "outputs": [
    {
     "name": "stdout",
     "output_type": "stream",
     "text": [
      "[1, 2, [3, 4]]\n",
      "[1, 2, [3, 4], 3, 4]\n"
     ]
    }
   ],
   "source": [
    "L1=[1,2]\n",
    "L2=[3,4]\n",
    "L1.append(L2)\n",
    "print(L1)\n",
    "L1.extend(L2)\n",
    "print(L1)"
   ]
  },
  {
   "attachments": {},
   "cell_type": "markdown",
   "metadata": {},
   "source": []
  },
  {
   "cell_type": "code",
   "execution_count": 5,
   "metadata": {},
   "outputs": [
    {
     "name": "stdout",
     "output_type": "stream",
     "text": [
      "[7, 6, 5, 4, 3, 2]\n"
     ]
    }
   ],
   "source": [
    "#python第5章编程第一题\n",
    " \n",
    "li_num1 = [4,5,2,7]         #创建li_num1和li_num2列表\n",
    "li_num2 = [3,6]\n",
    "num=li_num1+li_num2\n",
    "#用extend()函数将li_num2加入li_num1的末尾\n",
    "num.sort(reverse=True)  #用sort()函数将列表中的元素按降序排列\n",
    "                    #参数reverse用于控制列表元素排列方式，参数可取值True(降序)或Flase(升序)\n",
    "print(num)"
   ]
  },
  {
   "cell_type": "code",
   "execution_count": 6,
   "metadata": {},
   "outputs": [
    {
     "name": "stdout",
     "output_type": "stream",
     "text": [
      "('p', 'y', 't', ['o', 'n', 'h'])\n"
     ]
    }
   ],
   "source": [
    "tu_num1 = ('p', 'y', 't',['o', 'n'])\n",
    " \n",
    "tu_num1[-1].append('h')\n",
    " \n",
    "print(tu_num1)"
   ]
  },
  {
   "cell_type": "code",
   "execution_count": 10,
   "metadata": {},
   "outputs": [
    {
     "name": "stdout",
     "output_type": "stream",
     "text": [
      "('p', 'y', 't ', ['o', 'n', 'h'])\n"
     ]
    }
   ],
   "source": [
    "tu_num1 = ('p', 'y', 't ', ['o','n'])\n",
    "tu_num1[3][2:2] = 'h'\n",
    "print(tu_num1)\n"
   ]
  },
  {
   "cell_type": "code",
   "execution_count": 11,
   "metadata": {},
   "outputs": [
    {
     "name": "stdout",
     "output_type": "stream",
     "text": [
      "{'s': 3, 'k': 4, 'd': 1, 'a': 2, 'e': 1, 'r': 1, 'j': 2, 'l': 1}\n"
     ]
    }
   ],
   "source": [
    "str = 'skdaskerkjsalkj'\n",
    "count = {}\n",
    "for c in str:    \n",
    "    if c in count:        \n",
    "        count[c] += 1    \n",
    "    else:        \n",
    "        count[c] = 1\n",
    "print(count)"
   ]
  },
  {
   "cell_type": "code",
   "execution_count": 13,
   "metadata": {},
   "outputs": [
    {
     "name": "stdout",
     "output_type": "stream",
     "text": [
      "[1, 2, 3, 4, 5, 7, 8]\n"
     ]
    }
   ],
   "source": [
    "li_one = [1,2,1,2,3,5,4,3,5,7,4,7,8]\n",
    "li_one = list(set(li_one))\n",
    "print(li_one)"
   ]
  },
  {
   "cell_type": "code",
   "execution_count": null,
   "metadata": {},
   "outputs": [],
   "source": []
  }
 ],
 "metadata": {
  "kernelspec": {
   "display_name": "Python 3",
   "language": "python",
   "name": "python3"
  },
  "language_info": {
   "codemirror_mode": {
    "name": "ipython",
    "version": 3
   },
   "file_extension": ".py",
   "mimetype": "text/x-python",
   "name": "python",
   "nbconvert_exporter": "python",
   "pygments_lexer": "ipython3",
   "version": "3.7.6"
  }
 },
 "nbformat": 4,
 "nbformat_minor": 4
}
