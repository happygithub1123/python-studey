{
 "cells": [
  {
   "cell_type": "code",
   "execution_count": 2,
   "metadata": {},
   "outputs": [
    {
     "ename": "ZeroDivisionError",
     "evalue": "division by zero",
     "output_type": "error",
     "traceback": [
      "\u001b[1;31m---------------------------------------------------------------------------\u001b[0m",
      "\u001b[1;31mZeroDivisionError\u001b[0m                         Traceback (most recent call last)",
      "\u001b[1;32m<ipython-input-2-2fc232d1511a>\u001b[0m in \u001b[0;36m<module>\u001b[1;34m\u001b[0m\n\u001b[1;32m----> 1\u001b[1;33m \u001b[0mprint\u001b[0m\u001b[1;33m(\u001b[0m\u001b[1;36m1\u001b[0m\u001b[1;33m/\u001b[0m\u001b[1;36m0\u001b[0m\u001b[1;33m)\u001b[0m\u001b[1;33m\u001b[0m\u001b[1;33m\u001b[0m\u001b[0m\n\u001b[0m",
      "\u001b[1;31mZeroDivisionError\u001b[0m: division by zero"
     ]
    }
   ],
   "source": [
    "print(1/0)"
   ]
  },
  {
   "cell_type": "code",
   "execution_count": 6,
   "metadata": {},
   "outputs": [
    {
     "name": "stdout",
     "output_type": "stream",
     "text": [
      "<_io.TextIOWrapper name='第六章面向对象.ipynb' mode='r' encoding='cp936'>\n"
     ]
    }
   ],
   "source": [
    "file =open(\"第六章面向对象.ipynb\",'r')\n",
    "print(file)"
   ]
  },
  {
   "cell_type": "code",
   "execution_count": 8,
   "metadata": {},
   "outputs": [
    {
     "ename": "SyntaxError",
     "evalue": "invalid syntax (<ipython-input-8-5f381ed06266>, line 2)",
     "output_type": "error",
     "traceback": [
      "\u001b[1;36m  File \u001b[1;32m\"<ipython-input-8-5f381ed06266>\"\u001b[1;36m, line \u001b[1;32m2\u001b[0m\n\u001b[1;33m    for a in list\u001b[0m\n\u001b[1;37m                 ^\u001b[0m\n\u001b[1;31mSyntaxError\u001b[0m\u001b[1;31m:\u001b[0m invalid syntax\n"
     ]
    }
   ],
   "source": [
    "list=[1,2,4,5]\n",
    "for a in list\n",
    "    print(a)"
   ]
  },
  {
   "cell_type": "code",
   "execution_count": 13,
   "metadata": {},
   "outputs": [
    {
     "name": "stdout",
     "output_type": "stream",
     "text": [
      "10\n"
     ]
    }
   ],
   "source": [
    "list=[10]\n",
    "print(list[0])"
   ]
  },
  {
   "cell_type": "code",
   "execution_count": 25,
   "metadata": {},
   "outputs": [
    {
     "ename": "KeyError",
     "evalue": "('age', 'i')",
     "output_type": "error",
     "traceback": [
      "\u001b[1;31m---------------------------------------------------------------------------\u001b[0m",
      "\u001b[1;31mKeyError\u001b[0m                                  Traceback (most recent call last)",
      "\u001b[1;32m<ipython-input-25-b4c48e720576>\u001b[0m in \u001b[0;36m<module>\u001b[1;34m\u001b[0m\n\u001b[0;32m      1\u001b[0m \u001b[0mdic\u001b[0m\u001b[1;33m=\u001b[0m\u001b[1;33m{\u001b[0m\u001b[1;34m\"i\"\u001b[0m\u001b[1;33m:\u001b[0m\u001b[1;34m\"lihua\"\u001b[0m\u001b[1;33m,\u001b[0m\u001b[1;34m\"age\"\u001b[0m\u001b[1;33m:\u001b[0m\u001b[1;36m10\u001b[0m\u001b[1;33m}\u001b[0m\u001b[1;33m\u001b[0m\u001b[1;33m\u001b[0m\u001b[0m\n\u001b[1;32m----> 2\u001b[1;33m \u001b[0mprint\u001b[0m\u001b[1;33m(\u001b[0m\u001b[0mdic\u001b[0m\u001b[1;33m[\u001b[0m\u001b[1;34m\"age\"\u001b[0m\u001b[1;33m,\u001b[0m\u001b[1;34m\"i\"\u001b[0m\u001b[1;33m]\u001b[0m\u001b[1;33m)\u001b[0m\u001b[1;33m\u001b[0m\u001b[1;33m\u001b[0m\u001b[0m\n\u001b[0m",
      "\u001b[1;31mKeyError\u001b[0m: ('age', 'i')"
     ]
    }
   ],
   "source": [
    "dic={\"i\":\"lihua\",\"age\":10}\n",
    "print(dic[\"age\"])"
   ]
  },
  {
   "cell_type": "code",
   "execution_count": 28,
   "metadata": {},
   "outputs": [
    {
     "ename": "AttributeError",
     "evalue": "'Car' object has no attribute 'when1'",
     "output_type": "error",
     "traceback": [
      "\u001b[1;31m---------------------------------------------------------------------------\u001b[0m",
      "\u001b[1;31mAttributeError\u001b[0m                            Traceback (most recent call last)",
      "\u001b[1;32m<ipython-input-28-d0a564e2177a>\u001b[0m in \u001b[0;36m<module>\u001b[1;34m\u001b[0m\n\u001b[0;32m      5\u001b[0m         \u001b[0mprint\u001b[0m\u001b[1;33m(\u001b[0m\u001b[1;34m\"开车\"\u001b[0m\u001b[1;33m)\u001b[0m\u001b[1;33m\u001b[0m\u001b[1;33m\u001b[0m\u001b[0m\n\u001b[0;32m      6\u001b[0m \u001b[0mcar\u001b[0m\u001b[1;33m=\u001b[0m\u001b[0mCar\u001b[0m\u001b[1;33m(\u001b[0m\u001b[1;33m)\u001b[0m\u001b[1;33m\u001b[0m\u001b[1;33m\u001b[0m\u001b[0m\n\u001b[1;32m----> 7\u001b[1;33m \u001b[0mprint\u001b[0m\u001b[1;33m(\u001b[0m\u001b[0mcar\u001b[0m\u001b[1;33m.\u001b[0m\u001b[0mwhen1\u001b[0m\u001b[1;33m)\u001b[0m\u001b[1;33m\u001b[0m\u001b[1;33m\u001b[0m\u001b[0m\n\u001b[0m",
      "\u001b[1;31mAttributeError\u001b[0m: 'Car' object has no attribute 'when1'"
     ]
    }
   ],
   "source": [
    "#属性异常\n",
    "class Car:\n",
    "    whenl=2\n",
    "    def drive(self):\n",
    "        print(\"开车\")\n",
    "car=Car()\n",
    "print(car.when1)\n"
   ]
  },
  {
   "cell_type": "markdown",
   "metadata": {},
   "source": [
    "# 异常处理"
   ]
  },
  {
   "cell_type": "code",
   "execution_count": null,
   "metadata": {},
   "outputs": [],
   "source": [
    "try:\n",
    "    num=int(input(\"please input a number\"))\n",
    "    rst = 100/num\n",
    "    print(f\"计算机结果为{rst}\")\n",
    "except:\n",
    "    print(\"输入不能为零\")\n",
    "    exit()"
   ]
  },
  {
   "cell_type": "code",
   "execution_count": 1,
   "metadata": {},
   "outputs": [
    {
     "name": "stdout",
     "output_type": "stream",
     "text": [
      "please input a number0\n",
      "输入不能为零\n"
     ]
    }
   ],
   "source": [
    "#多个异常出现\n",
    "try:\n",
    "    num=int(input(\"please input a number\"))\n",
    "    rst = 100/num\n",
    "    print(\"计算结果为：{}\".format(rst))\n",
    "except ZeroDivisionError:\n",
    "    print(\"输入不能为零\")\n",
    "except ValueError:\n",
    "    print(\"输入不能是字符\")\n",
    "    exit()"
   ]
  },
  {
   "cell_type": "code",
   "execution_count": 3,
   "metadata": {},
   "outputs": [
    {
     "name": "stdout",
     "output_type": "stream",
     "text": [
      "please input a number0\n",
      "division by zero\n",
      "不管怎样，都要执行我\n"
     ]
    }
   ],
   "source": [
    "#没有捕获到异常的处理情况\n",
    "try:\n",
    "    num=int(input(\"please input a number\"))\n",
    "    rst = 100/num\n",
    "    print(\"计算结果为：{}\".format(rst))\n",
    "except Exception as e:#捕获所有异常\n",
    "    print(e)\n",
    "else:\n",
    "    print(\"程序正常，没有异常\")\n",
    "    \n",
    "finally:\n",
    "    print(\"不管怎样，都要执行我\")\n"
   ]
  },
  {
   "cell_type": "code",
   "execution_count": 5,
   "metadata": {},
   "outputs": [
    {
     "name": "stdout",
     "output_type": "stream",
     "text": [
      "我喜欢南京\n",
      "3.142323\n",
      "ValueError\n",
      "我肯定要执行的\n"
     ]
    }
   ],
   "source": [
    "#抛出异常\n",
    "#手工抛出一个异常,自己来引发一个异常 关键字raise\n",
    "class zilei(ValueError):\n",
    "    pass\n",
    "try:\n",
    "    \n",
    "    print(\"我喜欢南京\")\n",
    "    print(3.142323)\n",
    "    #手工引发一个异常\n",
    "    raise ValueError\n",
    "    print(\"还没有结束呢？\")\n",
    "        \n",
    "except ZeroDivisionError:\n",
    "    print(\"ZeroDivisionError\")\n",
    "except ValueError:\n",
    "    print(\"ValueError\")\n",
    "finally:\n",
    "     print(\"我肯定要执行的\")\n",
    "    "
   ]
  },
  {
   "cell_type": "markdown",
   "metadata": {},
   "source": [
    "# 文件的读取"
   ]
  },
  {
   "cell_type": "code",
   "execution_count": 8,
   "metadata": {},
   "outputs": [],
   "source": [
    "#文件的打开和关闭，文件的写入\n",
    "file = open(\"py1.txt\",\"w\")#代表写 ，r代表读\n",
    "file.write(\"hello py1\")\n",
    "file.write(\"\\n\")\n",
    "file.write(\"hello py2\")\n",
    "file.write(\"\\n\")\n",
    "file.write(\"hello py3\")\n",
    "file.write(\"\\n\")\n",
    "file.close()"
   ]
  },
  {
   "cell_type": "code",
   "execution_count": 19,
   "metadata": {},
   "outputs": [
    {
     "name": "stdout",
     "output_type": "stream",
     "text": [
      "11111\n"
     ]
    }
   ],
   "source": [
    "#读文件\n",
    "file= open(\"\\\\Users\\\\ASUS\\\\Desktop\\\\11.txt\",\"r\")\n",
    "content = file.readlines()\n",
    "for a in content:\n",
    "    print(a)\n",
    "#print(content)\n",
    "file.close()"
   ]
  },
  {
   "cell_type": "code",
   "execution_count": 23,
   "metadata": {},
   "outputs": [
    {
     "name": "stdout",
     "output_type": "stream",
     "text": [
      "['.ipynb_checkpoints', 'py1.txt', 'Untitled-Copy1.ipynb', 'Untitled1.ipynb', 'Untitled2.ipynb', 'Untitled3-Copy1.ipynb', 'Untitled4.ipynb', '函数.ipynb', '王开心', '第九章异常.ipynb', '第五章组合数据类型.ipynb', '第六章面向对象.ipynb']\n"
     ]
    }
   ],
   "source": [
    "import os #引入一个包\n",
    "#os.mkdir(\"王开心\")\n",
    "\n",
    "#获取当前目录\n",
    "#print(os.getcwd())\n",
    "\n",
    "#获取目录列表\n",
    "print(os.listdir(\"./\"))\n",
    "\n",
    "#删除文件夹\n",
    "os.rmdir(\"王开心\")"
   ]
  },
  {
   "cell_type": "code",
   "execution_count": 33,
   "metadata": {},
   "outputs": [
    {
     "name": "stdout",
     "output_type": "stream",
     "text": [
      "/\n",
      "\n"
     ]
    }
   ],
   "source": [
    "print(\"/\\n\")"
   ]
  },
  {
   "cell_type": "markdown",
   "metadata": {},
   "source": [
    "# 作业"
   ]
  },
  {
   "cell_type": "code",
   "execution_count": null,
   "metadata": {},
   "outputs": [],
   "source": [
    "#用python编写一个程序，按照用户·输出得半径计算圆的面积，如半径为负值抛出异常\n",
    "PI = 3.14\n",
    "r=int(input(\"请输入半径：\")\n",
    "if r <= 0:\n",
    "         \n",
    "S=PI*r*r\n",
    "print(\"圆的面积计算结果为：{}\".format())\n",
    "\n",
    " \n",
    "\n",
    "\n",
    "\n",
    "\n",
    "    \n",
    "\n",
    "\n"
   ]
  },
  {
   "cell_type": "code",
   "execution_count": 21,
   "metadata": {},
   "outputs": [
    {
     "name": "stdout",
     "output_type": "stream",
     "text": [
      "请输入半径:\n",
      "-1\n",
      "ValueError\n",
      "不能为负数\n"
     ]
    }
   ],
   "source": [
    "try:\n",
    "    pi=3.14\n",
    "    print(\"请输入半径:\")\n",
    "    a = float(input())\n",
    "    if a <= 0: \n",
    "        print(\"ValueError\")\n",
    "    raise ValueError\n",
    "    print(\"ValueError\")\n",
    "    \n",
    "    s = pi * a * a\n",
    "    print(\"圆的面积计算结果为：{}\".format(s))\n",
    "except ValueError:\n",
    "    print(\"不能为负数\")"
   ]
  },
  {
   "cell_type": "code",
   "execution_count": 32,
   "metadata": {},
   "outputs": [
    {
     "ename": "SyntaxError",
     "evalue": "invalid syntax (<ipython-input-32-16258bda692b>, line 9)",
     "output_type": "error",
     "traceback": [
      "\u001b[1;36m  File \u001b[1;32m\"<ipython-input-32-16258bda692b>\"\u001b[1;36m, line \u001b[1;32m9\u001b[0m\n\u001b[1;33m    except:\u001b[0m\n\u001b[1;37m         ^\u001b[0m\n\u001b[1;31mSyntaxError\u001b[0m\u001b[1;31m:\u001b[0m invalid syntax\n"
     ]
    }
   ],
   "source": [
    "import math\n",
    "\n",
    "a,b,c = eval(input())\n",
    "if a+b>c and a+c>b and b+c>a:\n",
    "    s = 1/2*(a+b+c)\n",
    "    mji = math.sqrt(s*(s-a)*(s-b)*(s-c))\n",
    "    zouc = a+b+c\n",
    "    print('面积：%.2f,周长：%.2f' %(mji, zouc))\n",
    "except:\n",
    "    print(\"不能构成三角形\")\n",
    "else:\n",
    "    raise (Exception)\n",
    "\n",
    "    "
   ]
  },
  {
   "cell_type": "code",
   "execution_count": null,
   "metadata": {},
   "outputs": [],
   "source": []
  },
  {
   "cell_type": "code",
   "execution_count": null,
   "metadata": {},
   "outputs": [],
   "source": []
  },
  {
   "cell_type": "code",
   "execution_count": null,
   "metadata": {},
   "outputs": [],
   "source": []
  },
  {
   "cell_type": "code",
   "execution_count": null,
   "metadata": {},
   "outputs": [],
   "source": []
  },
  {
   "cell_type": "code",
   "execution_count": null,
   "metadata": {},
   "outputs": [],
   "source": []
  },
  {
   "cell_type": "code",
   "execution_count": null,
   "metadata": {},
   "outputs": [],
   "source": []
  }
 ],
 "metadata": {
  "kernelspec": {
   "display_name": "Python 3",
   "language": "python",
   "name": "python3"
  },
  "language_info": {
   "codemirror_mode": {
    "name": "ipython",
    "version": 3
   },
   "file_extension": ".py",
   "mimetype": "text/x-python",
   "name": "python",
   "nbconvert_exporter": "python",
   "pygments_lexer": "ipython3",
   "version": "3.7.6"
  }
 },
 "nbformat": 4,
 "nbformat_minor": 4
}
