{
 "cells": [
  {
   "cell_type": "markdown",
   "metadata": {},
   "source": [
    "# 函数的定义"
   ]
  },
  {
   "cell_type": "markdown",
   "metadata": {},
   "source": [
    "函数的定义\n",
    "def 函数名称（参数列表）：\n",
    "{\n",
    "函数体；\n",
    "}\n",
    "\n",
    "***函数先定义后使用"
   ]
  },
  {
   "cell_type": "markdown",
   "metadata": {},
   "source": [
    "def func():\n",
    "    print(\"你好\")\n",
    "    print(\"我是Python\")\n",
    "print(\"函数结束了\")\n",
    "func()"
   ]
  },
  {
   "cell_type": "markdown",
   "metadata": {},
   "source": [
    "\"\"\"\n",
    "函数的参数和返回值\n",
    "（1）参数：给函数传回一定的参数\n",
    "参数分为：实参和形参\n",
    "实参：有具体的值\n",
    "形参：在函数定义的时候用到的参数，并没有具体的值\n",
    "（2）返回值\n",
    "调用函数的一个执行结果\n",
    "\"\"\""
   ]
  },
  {
   "cell_type": "markdown",
   "metadata": {},
   "source": [
    "#person是形参 ，实参\n",
    "def hello(person):\n",
    "    print(\"{},你好！\".format(person))\n",
    "    print(\"{},你是认识陈浩南吗？\".format(person))\n",
    "    return None\n",
    "#李四就是实参\n",
    "p=\"李四\"\n",
    "hello(p)\n",
    "p=\"小明\"\n",
    "hello(p)\n",
    "pp=hello(\"猪八戒\")\n",
    "print(pp)"
   ]
  },
  {
   "cell_type": "markdown",
   "metadata": {},
   "source": [
    "#九九乘法表\n",
    "for i in range(1,10):\n",
    "    for j in range(1,i+1):\n",
    "        print(\"{}*{}={}\".format(i,j,i*j),end=' ')\n",
    "    print()"
   ]
  },
  {
   "cell_type": "markdown",
   "metadata": {},
   "source": [
    "help(format)"
   ]
  },
  {
   "cell_type": "raw",
   "metadata": {},
   "source": [
    "\n",
    "def jjcfb():\n",
    "    for i in range(1,10):\n",
    "        for j in range(1,i+1):\n",
    "            print(\"{0}*{1}={2}\".format(i,j,i*j),end=' ')\n",
    "        print()\n",
    "    return None\n",
    "jjcfb()"
   ]
  },
  {
   "cell_type": "markdown",
   "metadata": {},
   "source": [
    "#普通参数\n",
    "def normal_pare(one,two,three):\n",
    "    print(one+two+three)\n",
    "    return None\n",
    "normal_pare(1,2,3)"
   ]
  },
  {
   "cell_type": "code",
   "execution_count": null,
   "metadata": {},
   "outputs": [],
   "source": [
    "#默认参数 ，给我就用，不给就默认\n",
    "def normal_pare(one,two,three=100):\n",
    "    print(one+two+three)\n",
    "    print(three)\n",
    "    return None\n",
    "normal_pare(1,2)"
   ]
  },
  {
   "cell_type": "markdown",
   "metadata": {},
   "source": [
    "#关键词，摆脱了位置的束缚\n",
    "def key_para(one,two,three):\n",
    "    print(one+two)\n",
    "    print(three)\n",
    "key_para(two=2,three=100,one=1)\n",
    "    "
   ]
  },
  {
   "cell_type": "code",
   "execution_count": null,
   "metadata": {},
   "outputs": [],
   "source": [
    "#不定长参数，多了两个不定长参数 *agrs **kwargs\n",
    "def test(a,b,*agrs,**kwargs):\n",
    "    print(a)\n",
    "    print(b)\n",
    "    print(agrs)\n",
    "    print(kwargs)\n",
    "    return None\n",
    "test(1,2)\n",
    "test(1,2,3,4,5,6,7)\n",
    "test(1,2,3,4,5,m=10,n=20)"
   ]
  },
  {
   "cell_type": "code",
   "execution_count": 48,
   "metadata": {},
   "outputs": [
    {
     "name": "stdout",
     "output_type": "stream",
     "text": [
      "大家好我叫刘德华，我来自九龙\n",
      "aaab\n"
     ]
    }
   ],
   "source": [
    "def getInfo(name,address,*agrs,**kwargs):\n",
    "    print(\"大家好我叫{}，我来自{}\".format(name,address))\n",
    "    print(*agrs,**kwargs)\n",
    "getInfo(\"刘德华\",\"九龙\",\"a\",\"b\",sep=\"aa\")"
   ]
  },
  {
   "cell_type": "code",
   "execution_count": 46,
   "metadata": {},
   "outputs": [
    {
     "name": "stdout",
     "output_type": "stream",
     "text": [
      "Help on built-in function print in module builtins:\n",
      "\n",
      "print(...)\n",
      "    print(value, ..., sep=' ', end='\\n', file=sys.stdout, flush=False)\n",
      "    \n",
      "    Prints the values to a stream, or to sys.stdout by default.\n",
      "    Optional keyword arguments:\n",
      "    file:  a file-like object (stream); defaults to the current sys.stdout.\n",
      "    sep:   string inserted between values, default a space.\n",
      "    end:   string appended after the last value, default a newline.\n",
      "    flush: whether to forcibly flush the stream.\n",
      "\n"
     ]
    }
   ],
   "source": [
    "help(print)"
   ]
  },
  {
   "cell_type": "code",
   "execution_count": null,
   "metadata": {},
   "outputs": [],
   "source": [
    "#函数四种类型  1.无参数 ，无返回值 2.无参数,有返回值.3有参数,无返回值.4.有参数.有返回值\n"
   ]
  },
  {
   "cell_type": "code",
   "execution_count": null,
   "metadata": {},
   "outputs": [],
   "source": [
    "#无参数,无返回值\n",
    "def example():\n",
    "    print(\"无参数\"有返回值)\n",
    "    return None"
   ]
  },
  {
   "cell_type": "code",
   "execution_count": 49,
   "metadata": {},
   "outputs": [
    {
     "name": "stdout",
     "output_type": "stream",
     "text": [
      "无参数，有返回值\n",
      "None\n"
     ]
    }
   ],
   "source": [
    "#无参数，有参数值\n",
    "def example2():\n",
    "    print(\"无参数，有返回值\")\n",
    "example2 =example2()\n",
    "print(example2)"
   ]
  },
  {
   "cell_type": "code",
   "execution_count": 53,
   "metadata": {},
   "outputs": [
    {
     "name": "stdout",
     "output_type": "stream",
     "text": [
      "2\n",
      "3\n"
     ]
    },
    {
     "data": {
      "text/plain": [
       "200"
      ]
     },
     "execution_count": 53,
     "metadata": {},
     "output_type": "execute_result"
    }
   ],
   "source": [
    "#有参数，无返回值\n",
    "def example3(a,b):\n",
    "    print(a)\n",
    "    print(b)\n",
    "    return 200\n",
    "example3(2,3)\n"
   ]
  },
  {
   "cell_type": "code",
   "execution_count": 4,
   "metadata": {},
   "outputs": [
    {
     "name": "stdout",
     "output_type": "stream",
     "text": [
      "300\n"
     ]
    }
   ],
   "source": [
    "#有参数，有返回值\n",
    "def example4(a,b):\n",
    "    c=a+b\n",
    "    return c\n",
    "example4=example4(100,200)\n",
    "print(example4)"
   ]
  },
  {
   "cell_type": "code",
   "execution_count": 1,
   "metadata": {},
   "outputs": [
    {
     "name": "stdout",
     "output_type": "stream",
     "text": [
      "15\n"
     ]
    }
   ],
   "source": [
    "#递归函数\n",
    "def sum(n):\n",
    "    if(n>0):\n",
    "        return n+sum(n-1) #函数的调用\n",
    "    else:\n",
    "        return 0\n",
    "print(sum(5))"
   ]
  },
  {
   "cell_type": "code",
   "execution_count": 9,
   "metadata": {},
   "outputs": [
    {
     "ename": "SyntaxError",
     "evalue": "invalid syntax (<ipython-input-9-41c33f1fffaa>, line 4)",
     "output_type": "error",
     "traceback": [
      "\u001b[1;36m  File \u001b[1;32m\"<ipython-input-9-41c33f1fffaa>\"\u001b[1;36m, line \u001b[1;32m4\u001b[0m\n\u001b[1;33m    global result=a+b\u001b[0m\n\u001b[1;37m                 ^\u001b[0m\n\u001b[1;31mSyntaxError\u001b[0m\u001b[1;31m:\u001b[0m invalid syntax\n"
     ]
    }
   ],
   "source": [
    "#变量的作用域\n",
    "result = 200\n",
    "def add(a,b):\n",
    "    result=a+b\n",
    "    print(\"局部变量是:{}\".format(result))\n",
    "    return result\n",
    "add(40,50)\n",
    "print(\"全局变量是：{}\".format(result))"
   ]
  },
  {
   "cell_type": "code",
   "execution_count": 10,
   "metadata": {},
   "outputs": [
    {
     "name": "stdout",
     "output_type": "stream",
     "text": [
      "运行结果是： 30\n"
     ]
    }
   ],
   "source": [
    "#匿名函数\n",
    "sum = lambda arg1,arg2:arg1+arg2\n",
    "print(\"运行结果是：\",sum(10,20))"
   ]
  },
  {
   "cell_type": "code",
   "execution_count": 7,
   "metadata": {},
   "outputs": [
    {
     "name": "stdout",
     "output_type": "stream",
     "text": [
      "<built-in function time>\n",
      "time.struct_time(tm_year=2023, tm_mon=4, tm_mday=6, tm_hour=18, tm_min=55, tm_sec=46, tm_wday=3, tm_yday=96, tm_isdst=0)\n"
     ]
    }
   ],
   "source": [
    "#时间日期函数\n",
    "import time\n",
    "tricks=time.time\n",
    "print(tricks)\n",
    "time=time.localtime()\n",
    "print(time)"
   ]
  },
  {
   "cell_type": "code",
   "execution_count": 11,
   "metadata": {},
   "outputs": [
    {
     "name": "stdout",
     "output_type": "stream",
     "text": [
      "     March 2023\n",
      "Mo Tu We Th Fr Sa Su\n",
      "       1  2  3  4  5\n",
      " 6  7  8  9 10 11 12\n",
      "13 14 15 16 17 18 19\n",
      "20 21 22 23 24 25 26\n",
      "27 28 29 30 31\n",
      "\n"
     ]
    }
   ],
   "source": [
    "#输出日历\n",
    "import calendar\n",
    "calendar_march=calendar.month(2023,3)\n",
    "print(calendar_march)"
   ]
  },
  {
   "cell_type": "code",
   "execution_count": 30,
   "metadata": {},
   "outputs": [
    {
     "name": "stdout",
     "output_type": "stream",
     "text": [
      "0.9877884364191138\n",
      "28.74735540230618\n",
      "33\n",
      "60\n",
      "nanjing\n",
      "o\n"
     ]
    }
   ],
   "source": [
    "#随机函数\n",
    "#0~1随机\n",
    "import random\n",
    "print(random.random())\n",
    "#20~30\n",
    "print(random.uniform(20,30))\n",
    "#递增函数\n",
    "print(random.randint(10,40))\n",
    "#返回递增基数的一个集合,做包括，右不包括\n",
    "print(random.randrange(10,100,10))\n",
    "list=[\"wo\",\"ai\",\"nanjing\"]\n",
    "print(random.choice(list))\n",
    "a=\"dfobughsdif\"\n",
    "print(random.choice(a))\n",
    "\n"
   ]
  },
  {
   "cell_type": "code",
   "execution_count": 43,
   "metadata": {},
   "outputs": [
    {
     "name": "stdout",
     "output_type": "stream",
     "text": [
      "['ai', 'nanjing', 'wo']\n",
      "['ai', 'wo']\n"
     ]
    }
   ],
   "source": [
    "#将列表打乱\n",
    "list=[\"wo\",\"ai\",\"nanjing\"]\n",
    "random.shuffle(list)\n",
    "print(list)\n",
    "#从列表中选取k个元素组成新的列表\n",
    "slice=random.sample(list,2)\n",
    "print(slice)"
   ]
  },
  {
   "cell_type": "code",
   "execution_count": null,
   "metadata": {},
   "outputs": [],
   "source": []
  },
  {
   "cell_type": "code",
   "execution_count": 27,
   "metadata": {},
   "outputs": [
    {
     "name": "stdout",
     "output_type": "stream",
     "text": [
      "输入第1个数33\n",
      "输入第2个数11\n",
      "输入第3个数22\n",
      "最大值:33\n"
     ]
    }
   ],
   "source": [
    "# 输入三个数判断最大值得函数式\n",
    "def getMax():\n",
    "    a = int(input(\"输入第1个数\"))\n",
    "    b = int(input(\"输入第2个数\"))\n",
    "    c = int(input(\"输入第3个数\")) \n",
    "    max=a\n",
    "    if max<b:\n",
    "        max=b\n",
    "    if max<c:\n",
    "        max=c\n",
    "    return \"最大值:\"+str(max)\n",
    "    \n",
    "max=getMax()\n",
    "print(max)\n",
    "        \n",
    "   \n",
    "\n"
   ]
  },
  {
   "cell_type": "code",
   "execution_count": null,
   "metadata": {},
   "outputs": [],
   "source": []
  },
  {
   "cell_type": "markdown",
   "metadata": {},
   "source": [
    "# a = int(input(\"输入第1个数\"))\n",
    "b = int(input(\"输入第2个数\"))\n",
    "c = int(input(\"输入第3个数\"))\n",
    "max = a\n",
    "if max<b:\n",
    "    max = b\n",
    "if max<c:\n",
    "    max=c\n",
    "print(max)"
   ]
  },
  {
   "cell_type": "code",
   "execution_count": 21,
   "metadata": {},
   "outputs": [
    {
     "name": "stdout",
     "output_type": "stream",
     "text": [
      "请输入第1个整数：11\n",
      "请输入第2个整数：22\n",
      "请输入第3个整数：33\n",
      "max:33\n"
     ]
    }
   ],
   "source": [
    "def getMax():\n",
    "    a=int(input(\"请输入第1个整数：\"))\n",
    "    b=int(input(\"请输入第2个整数：\"))\n",
    "    c=int(input(\"请输入第3个整数：\"))\n",
    "    max=0\n",
    "    if a>b:\n",
    "        max=a\n",
    "    else:\n",
    "        max=b\n",
    "    if max>c:\n",
    "        return \"max:\"+str(max)\n",
    "    else:\n",
    "        return \"max:\"+str(c)\n",
    "max=getMax()\n",
    "print(max)\n"
   ]
  },
  {
   "cell_type": "code",
   "execution_count": 49,
   "metadata": {},
   "outputs": [
    {
     "name": "stdout",
     "output_type": "stream",
     "text": [
      "请输入：12321\n"
     ]
    },
    {
     "data": {
      "text/plain": [
       "'是回文数：12321'"
      ]
     },
     "execution_count": 49,
     "metadata": {},
     "output_type": "execute_result"
    }
   ],
   "source": [
    "#判断是否为回文数\n",
    "def huiwenshu():\n",
    "    sort=input(\"请输入：\")\n",
    "    if sort == sort[::-1]:\n",
    "        return \"是回文数：\"+(sort)\n",
    "    else:\n",
    "        return \"不是回文数：\"+int(sort)\n",
    "huiwenshu()"
   ]
  },
  {
   "cell_type": "code",
   "execution_count": null,
   "metadata": {},
   "outputs": [],
   "source": []
  },
  {
   "cell_type": "code",
   "execution_count": null,
   "metadata": {},
   "outputs": [],
   "source": [
    "1234\n"
   ]
  }
 ],
 "metadata": {
  "kernelspec": {
   "display_name": "Python 3",
   "language": "python",
   "name": "python3"
  },
  "language_info": {
   "codemirror_mode": {
    "name": "ipython",
    "version": 3
   },
   "file_extension": ".py",
   "mimetype": "text/x-python",
   "name": "python",
   "nbconvert_exporter": "python",
   "pygments_lexer": "ipython3",
   "version": "3.7.6"
  },
  "widgets": {
   "application/vnd.jupyter.widget-state+json": {
    "state": {},
    "version_major": 2,
    "version_minor": 0
   }
  }
 },
 "nbformat": 4,
 "nbformat_minor": 4
}
