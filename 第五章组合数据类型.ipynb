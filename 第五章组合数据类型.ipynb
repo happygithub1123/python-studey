{
 "cells": [
  {
   "cell_type": "markdown",
   "metadata": {},
   "source": [
    "# 列表"
   ]
  },
  {
   "cell_type": "markdown",
   "metadata": {},
   "source": [
    "#列表可以被修改，元组不可被修改\n",
    "L1=[4,5,6,7,3,44,66,77,52]\n",
    "print(L1[-2:-5:-1])\n",
    "print(L1[-2:-5])\n"
   ]
  },
  {
   "cell_type": "markdown",
   "metadata": {},
   "source": [
    "L1=[4,5,6,7,3,44,66,77,52]\n",
    "print(L1[::2])"
   ]
  },
  {
   "cell_type": "raw",
   "metadata": {},
   "source": [
    "#列表切片  左闭右开\n",
    "\n",
    "L2=L1[1:5]\n",
    "print(L2)\n",
    "L3=L1[:]\n",
    "print(L3)\n",
    "\n",
    "    "
   ]
  },
  {
   "cell_type": "markdown",
   "metadata": {},
   "source": [
    "#升序 sort默认升序\n",
    "L1=[4,7,3,8,3,2,1]\n",
    "L1.sort()\n",
    "print(L1)\n",
    "#降序\n",
    "L1.reverse()\n",
    "print(L1)\n",
    "#Ture 真 ，Flase 假    排序\n",
    "L1.sort(reverse=False)  \n",
    "print(L1)"
   ]
  },
  {
   "cell_type": "code",
   "execution_count": 1,
   "metadata": {},
   "outputs": [
    {
     "name": "stdout",
     "output_type": "stream",
     "text": [
      "[0, 5, 1, 2, 4]\n"
     ]
    }
   ],
   "source": [
    "#insert  在指定的位置（索引）插入值\n",
    "L1=[0,1,2,4]\n",
    "L1.insert(1,5)\n",
    "print(L1)\n"
   ]
  },
  {
   "cell_type": "code",
   "execution_count": 6,
   "metadata": {},
   "outputs": [
    {
     "name": "stdout",
     "output_type": "stream",
     "text": [
      "['doa', 'cat', 'frog']\n",
      "['doa', 'brid', 'frog']\n"
     ]
    }
   ],
   "source": [
    "#在列表中修改元素,通过索引找到这个元素，添加进去\n",
    "animal_list =[\"doa\",\"cat\",\"frog\"]\n",
    "print(animal_list)\n",
    "animal_list[1]=\"brid\"\n",
    "print(animal_list)"
   ]
  },
  {
   "cell_type": "code",
   "execution_count": 93,
   "metadata": {},
   "outputs": [
    {
     "name": "stdout",
     "output_type": "stream",
     "text": [
      "['cat', 'dog', 'frog', 'brid']\n",
      "['dog', 'frog', 'brid']\n"
     ]
    }
   ],
   "source": [
    "#在列表中进行元素删除，三种方法\n",
    "#第一种方法  用关键词del,指定索引删除\n",
    "\"\"\"\n",
    "animal_list = [\"cat\",\"frog\",\"brid\"]\n",
    "del(animal_list[1])\n",
    "print(animal_list)\n",
    "\"\"\"\n",
    "\n",
    "\"\"\"\n",
    "#第二种方法\n",
    "animal_list = [\"cat\",\"dog\",\"frog\",\"brid\"]\n",
    "for a in animal_list:\n",
    "    print(a)\n",
    "    \n",
    "    \n",
    "animal_list.pop()\n",
    "for b in animal_list:\n",
    "   print(b)\n",
    "\n",
    "\"\"\"\n",
    "#\n",
    "animal_list = [\"cat\",\"dog\",\"frog\",\"brid\"]\n",
    "print(animal_list)\n",
    "animal_list.remove(\"cat\")\n",
    "print(animal_list)\n"
   ]
  },
  {
   "cell_type": "code",
   "execution_count": 3,
   "metadata": {},
   "outputs": [
    {
     "name": "stdout",
     "output_type": "stream",
     "text": [
      "在L1找到了44\n",
      "找到了44\n"
     ]
    }
   ],
   "source": [
    "L1=[11,22,33,44]\n",
    "find =44\n",
    "if find in L1:\n",
    "   print(\"在L1找到了44\")\n",
    "else:\n",
    "   print(\"没有找到\")\n",
    "\n",
    "if find not in L1:\n",
    "   print(\"在L1没有找到了44\")\n",
    "else:\n",
    "   print(\"找到了44\")"
   ]
  },
  {
   "cell_type": "markdown",
   "metadata": {},
   "source": [
    "# 元组"
   ]
  },
  {
   "cell_type": "code",
   "execution_count": null,
   "metadata": {},
   "outputs": [],
   "source": [
    "#元组和列表相似，不同的是元组的元素不能修改，列表可以被修改\n",
    "#元组可以访问。有序\n",
    "#元素的数据类型是  tuple\n"
   ]
  },
  {
   "cell_type": "code",
   "execution_count": 32,
   "metadata": {},
   "outputs": [
    {
     "name": "stdout",
     "output_type": "stream",
     "text": [
      "2\n"
     ]
    }
   ],
   "source": [
    "#元组的访问\n",
    "tuple =(\"a\",1,2,3,4,5,\"wo\",\"shi\")\n",
    "print(tuple[2])"
   ]
  },
  {
   "cell_type": "code",
   "execution_count": 33,
   "metadata": {},
   "outputs": [
    {
     "name": "stdout",
     "output_type": "stream",
     "text": [
      "('a', 1, 2, 3, 4, 5, 'wo', 'shi')\n",
      "('a', 1)\n",
      "('shi', 'wo', 5, 4, 3, 2, 1, 'a')\n"
     ]
    }
   ],
   "source": [
    "#元组的切片\n",
    "tuple =(\"a\",1,2,3,4,5,\"wo\",\"shi\")\n",
    "print(tuple[:])\n",
    "print(tuple[:2])\n",
    "print(tuple[-1::-1])"
   ]
  },
  {
   "cell_type": "code",
   "execution_count": 36,
   "metadata": {},
   "outputs": [
    {
     "name": "stdout",
     "output_type": "stream",
     "text": [
      "(100, 200, 300, 400, 500, 600)\n",
      "(100, 200, 300, 100, 200, 300)\n"
     ]
    }
   ],
   "source": [
    "#元组的相加\n",
    "ta=(100,200,300)\n",
    "tb=(400,500,600)\n",
    "tc=ta+tb\n",
    "print(tc)\n",
    "td=ta*2\n",
    "print(td)"
   ]
  },
  {
   "cell_type": "code",
   "execution_count": 38,
   "metadata": {},
   "outputs": [
    {
     "name": "stdout",
     "output_type": "stream",
     "text": [
      "在的\n"
     ]
    }
   ],
   "source": [
    "#元组的元组的检测\n",
    "ta=(100,200,300)\n",
    "if 100 in ta:\n",
    "    print(\"在的\")\n",
    "else:\n",
    "    print(\"不在\")"
   ]
  },
  {
   "cell_type": "code",
   "execution_count": 42,
   "metadata": {},
   "outputs": [
    {
     "name": "stdout",
     "output_type": "stream",
     "text": [
      "1\n",
      "2\n",
      "3\n",
      "i\n",
      "love\n",
      "nanjing\n"
     ]
    }
   ],
   "source": [
    "#元组的遍历,嵌套\n",
    "ta=(1,2,3),(\"i\",\"love\",\"nanjing\")\n",
    "for i in ta:\n",
    "    for j in i:\n",
    "        print(j)\n",
    "    "
   ]
  },
  {
   "cell_type": "code",
   "execution_count": 61,
   "metadata": {},
   "outputs": [
    {
     "name": "stdout",
     "output_type": "stream",
     "text": [
      "4\n",
      "5\n",
      "1\n",
      "2\n",
      "3\n"
     ]
    }
   ],
   "source": [
    "#常用元组函数\n",
    "ta=(1,2,2,5)\n",
    "print(len(ta))\n",
    "print(max(ta))\n",
    "print(min(ta))\n",
    "print(ta.count(2))\n",
    "print(ta.index(5))"
   ]
  },
  {
   "cell_type": "markdown",
   "metadata": {},
   "source": [
    "# 字典"
   ]
  },
  {
   "cell_type": "code",
   "execution_count": 66,
   "metadata": {},
   "outputs": [
    {
     "name": "stdout",
     "output_type": "stream",
     "text": [
      "zhaungzhou\n",
      "16\n",
      "nanjing\n",
      "unmarried\n",
      "None\n",
      "male\n"
     ]
    }
   ],
   "source": [
    "\n",
    "\n",
    "person ={'name':\"zhaungzhou\",'age':\"16\",'city':\"nanjing\",\"now\":\"unmarried\"}\n",
    "print(person[\"name\"])\n",
    "print(person[\"age\"])\n",
    "print(person[\"city\"])\n",
    "print(person[\"now\"])\n",
    "#如果想获取某个值，不确定在不在，可以用get方法来获取\n",
    "sex= person.get(\"sex\")\n",
    "print(sex)\n",
    "sex= person.get(\"sex\",\"male\")\n",
    "print(sex)\n"
   ]
  },
  {
   "cell_type": "code",
   "execution_count": 67,
   "metadata": {},
   "outputs": [
    {
     "name": "stdout",
     "output_type": "stream",
     "text": [
      "请输入学号19\n",
      "{'name': 'zhaungzhou', 'age': '16', 'city': 'nanjing', 'now': 'unmarried', 'id': '19'}\n"
     ]
    }
   ],
   "source": [
    "#添加字典中的元素\n",
    "person ={'name':\"zhaungzhou\",'age':\"16\",'city':\"nanjing\",\"now\":\"unmarried\"}\n",
    "new_id = input(\"请输入学号\")\n",
    "person['id']=new_id\n",
    "print(person)"
   ]
  },
  {
   "cell_type": "code",
   "execution_count": 69,
   "metadata": {},
   "outputs": [
    {
     "name": "stdout",
     "output_type": "stream",
     "text": [
      "请输入新的名字wangkaixin\n",
      "{'name': 'wangkaixin', 'age': '16', 'city': 'nanjing', 'now': 'unmarried'}\n"
     ]
    }
   ],
   "source": [
    "#修改字典中的元素\n",
    "person ={'name':\"zhaungzhou\",'age':\"16\",'city':\"nanjing\",\"now\":\"unmarried\"}\n",
    "new_name=input(\"请输入新的名字\")\n",
    "person[\"name\"]=new_name\n",
    "print(person)"
   ]
  },
  {
   "cell_type": "code",
   "execution_count": 71,
   "metadata": {},
   "outputs": [
    {
     "name": "stdout",
     "output_type": "stream",
     "text": [
      "{'name': 'zhaungzhou', 'city': 'nanjing', 'now': 'unmarried'}\n"
     ]
    }
   ],
   "source": [
    "#删除字典中的元素\n",
    "person ={'name':\"zhaungzhou\",'age':\"16\",'city':\"nanjing\",\"now\":\"unmarried\"}\n",
    "del(person[\"age\"])\n",
    "print(person)"
   ]
  },
  {
   "cell_type": "code",
   "execution_count": 75,
   "metadata": {},
   "outputs": [
    {
     "name": "stdout",
     "output_type": "stream",
     "text": [
      "4\n"
     ]
    }
   ],
   "source": [
    "#对字典中的元素统计\n",
    "person ={'name':\"zhaungzhou\",'age':\"16\",'city':\"nanjing\",\"now\":\"unmarried\"}\n",
    "len=len(person)\n",
    "print(len)"
   ]
  },
  {
   "cell_type": "code",
   "execution_count": 79,
   "metadata": {},
   "outputs": [
    {
     "name": "stdout",
     "output_type": "stream",
     "text": [
      "dict_keys(['name', 'age', 'city', 'now'])\n",
      "dict_values(['zhaungzhou', '16', 'nanjing', 'unmarried'])\n",
      "dict_items([('name', 'zhaungzhou'), ('age', '16'), ('city', 'nanjing'), ('now', 'unmarried')])\n"
     ]
    }
   ],
   "source": [
    "person ={'name':\"zhaungzhou\",'age':\"16\",'city':\"nanjing\",\"now\":\"unmarried\"}\n",
    "#获取字典中的键\n",
    "print(person.keys())\n",
    "#获取字典中的值\n",
    "print(person.values())\n",
    "#获取字典中的元素\n",
    "print(person.items())"
   ]
  },
  {
   "cell_type": "markdown",
   "metadata": {},
   "source": [
    "person ={'name':\"zhaungzhou\",'age':\"16\",'city':\"nanjing\",\"now\":\"unmarried\"}\n",
    "#对字典元素遍历\n",
    "for key in person.keys():\n",
    "    print(key)\n",
    "for v in person.values():\n",
    "    print(v)\n",
    "for key,values in person.items():\n",
    "    print(\"key={}，values={}\".format(key,values))"
   ]
  }
 ],
 "metadata": {
  "kernelspec": {
   "display_name": "Python 3",
   "language": "python",
   "name": "python3"
  },
  "language_info": {
   "codemirror_mode": {
    "name": "ipython",
    "version": 3
   },
   "file_extension": ".py",
   "mimetype": "text/x-python",
   "name": "python",
   "nbconvert_exporter": "python",
   "pygments_lexer": "ipython3",
   "version": "3.7.6"
  }
 },
 "nbformat": 4,
 "nbformat_minor": 4
}
